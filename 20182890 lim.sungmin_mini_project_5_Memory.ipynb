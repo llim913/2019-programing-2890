{
 "cells": [
  {
   "cell_type": "markdown",
   "metadata": {},
   "source": [
    "# Mini_Project_5:  Memory"
   ]
  },
  {
   "cell_type": "markdown",
   "metadata": {},
   "source": [
    "<pre> 학번: 20182890                성명: 임성민\n"
   ]
  },
  {
   "cell_type": "markdown",
   "metadata": {},
   "source": [
    "#### 제출기한: 2019년 5월 6일 11시 59분\n",
    "#### 주의사항: 과제 A 와 과제 B 모두 완성해서 제출하여야 함."
   ]
  },
  {
   "cell_type": "markdown",
   "metadata": {
    "heading_collapsed": true
   },
   "source": [
    "## 완성된 프로그램 Demo - Web"
   ]
  },
  {
   "cell_type": "markdown",
   "metadata": {},
   "source": [
    "## simple state example for Memory"
   ]
  },
  {
   "cell_type": "code",
   "execution_count": null,
   "metadata": {},
   "outputs": [],
   "source": [
    "# simple state example for Memory\n",
    "\n",
    "import SimpleGUICS2Pygame.simpleguics2pygame as simplegui\n",
    "     \n",
    "# define event handlers\n",
    "def new_game():\n",
    "    global state\n",
    "    state = 0\n",
    "    \n",
    "def buttonclick():\n",
    "    global state\n",
    "    if state == 0:\n",
    "        state = 1\n",
    "    elif state == 1:\n",
    "        state = 2\n",
    "    else:\n",
    "        state = 1\n",
    "                         \n",
    "def draw(canvas):\n",
    "    canvas.draw_text(str(state) + \" card exposed\", [30, 62], 24, \"White\")\n",
    "\n",
    "# create frame and add a button and labels\n",
    "frame = simplegui.create_frame(\"Memory states\", 200, 100)\n",
    "frame.add_button(\"Restart\", new_game, 200)\n",
    "frame.add_button(\"Simulate mouse click\", buttonclick, 200)\n",
    "\n",
    "\n",
    "# register event handlers\n",
    "frame.set_draw_handler(draw)\n",
    "\n",
    "# get things rolling\n",
    "new_game()\n",
    "frame.start()\n"
   ]
  },
  {
   "cell_type": "markdown",
   "metadata": {},
   "source": [
    "# 과제 A: Project Templete (5단계까지만)"
   ]
  },
  {
   "cell_type": "code",
   "execution_count": null,
   "metadata": {},
   "outputs": [],
   "source": [
    "## Project Templete (Pong)\n",
    "\n",
    "# implementation of card game - Memory\n",
    "\n",
    "import SimpleGUICS2Pygame.simpleguics2pygame as simplegui\n",
    "import random\n",
    "\n",
    "list1 = [0,1,2,3,4,5,6,7,8,9]\n",
    "list2 = [0,1,2,3,4,5,6,7,8,9]\n",
    "card_deck=list1+list2\n",
    "exposed = [False, False, False, False, False, False, False, False, False, False, False, False, False, False, False, False, False, False, False, False]\n",
    "card_list=[0]\n",
    "# helper function to initialize globals\n",
    "def new_game():\n",
    "    pass  \n",
    "\n",
    "     \n",
    "# define event handlers\n",
    "def mouseclick(pos):\n",
    "    # add game state logic here\n",
    "    card_list = pos[0] // 40\n",
    "    print('card number: '+str(card_deck[card_list]))\n",
    "                        \n",
    "# cards are logically 50x100 pixels in size    \n",
    "def draw(canvas):\n",
    "    for card_number in range(len(card_deck)):\n",
    "        card_pos = 40 * card_number\n",
    "        canvas.draw_text(str(card_deck[card_number]), (card_pos + 15,65) ,40, 'white')\n",
    "        \n",
    "    for card_block in range(len(exposed)):\n",
    "            card_pos = 40 * card_block\n",
    "            if exposed[card_block] == False :\n",
    "                canvas.draw_polygon([(card_pos, 0), (card_pos + 50, 0), (card_pos + 50, 100), (card_pos, 100)], 1, 'black', 'Green')\n",
    "    \n",
    "random.shuffle(card_deck)\n",
    "\n",
    "# create frame and add a button and labels\n",
    "frame = simplegui.create_frame(\"Memory\", 800, 100)\n",
    "frame.add_button(\"Reset\", new_game)\n",
    "label = frame.add_label(\"Turns = 0\")\n",
    "\n",
    "# register event handlers\n",
    "frame.set_mouseclick_handler(mouseclick)\n",
    "frame.set_draw_handler(draw)\n",
    "\n",
    "# get things rolling\n",
    "new_game()\n",
    "frame.start()"
   ]
  },
  {
   "cell_type": "markdown",
   "metadata": {},
   "source": [
    "# 과제 B: Project Templete (완성본)"
   ]
  },
  {
   "cell_type": "code",
   "execution_count": null,
   "metadata": {},
   "outputs": [],
   "source": [
    "## Project Templete (Pong)\n",
    "\n",
    "# implementation of card game - Memory\n",
    "\n",
    "import SimpleGUICS2Pygame.simpleguics2pygame as simplegui\n",
    "import random\n",
    "\n",
    "\n",
    "list1 = [0,1,2,3,4,5,6,7,8,9]\n",
    "list2 = [0,1,2,3,4,5,6,7,8,9]\n",
    "card_deck=list1+list2\n",
    "exposed = [False, False, False, False, False, False, False, False, False, False, False, False, False, False, False, False, False, False, False, False]\n",
    "exposed_overlap= [0, 0, 0, 0, 0, 0, 0, 0, 0, 0, 0, 0, 0, 0, 0, 0, 0, 0, 0, 0]\n",
    "state=0\n",
    "counter = 0\n",
    "\n",
    "# helper function to initialize globals\n",
    "def new_game():\n",
    "    global state, exposed, exposed_overlap, counter\n",
    "    state = 0\n",
    "    counter = 0\n",
    "    exposed = [False, False, False, False, False, False, False, False, False, False, False, False, False, False, False, False, False, False, False, False]\n",
    "    exposed_overlap= [0, 0, 0, 0, 0, 0, 0, 0, 0, 0, 0, 0, 0, 0, 0, 0, 0, 0, 0, 0]\n",
    "    random.shuffle(card_deck)\n",
    "    \n",
    "    \n",
    "# define event handlers\n",
    "def mouseclick(pos):\n",
    "    # add game state logic here\n",
    "    global card_list, state, p1, p2, correct, card_deck,exposed_overlap, counter\n",
    "    if state == 0 :\n",
    "        p1 = pos[0] // 40\n",
    "        exposed[p1] = True\n",
    "        print('card number: '+str(card_deck[p1]))\n",
    "        exposed_overlap[p1] = 1\n",
    "        state = 1\n",
    "        counter += 1\n",
    "        \n",
    "        \n",
    "    elif state == 1 and exposed_overlap[pos[0]//40] == 0:\n",
    "            p2 = pos[0] // 40\n",
    "            exposed[p2] = True\n",
    "            print('card number: '+str(card_deck[p2]))\n",
    "            exposed_overlap[p2] = 1\n",
    "            state = 2\n",
    "            \n",
    "\n",
    "            \n",
    "    elif state==2 and exposed_overlap[pos[0]//40] == 0 :\n",
    "        if card_deck[p1]==card_deck[p2]:\n",
    "            exposed[p1] = True\n",
    "            exposed[p2] = True\n",
    "            exposed_overlap[p1] = 1\n",
    "            exposed_overlap[p2] = 1\n",
    "            \n",
    "        else:\n",
    "            exposed[p1] = False\n",
    "            exposed[p2] = False\n",
    "            exposed_overlap[p1] = 0\n",
    "            exposed_overlap[p2] = 0\n",
    "            \n",
    "        p1 = pos[0] // 40\n",
    "        exposed[p1] = True\n",
    "        exposed_overlap[p1] = 1\n",
    "        print('card number: '+str(p1))\n",
    "        state=1\n",
    "        counter += 1\n",
    "        \n",
    "    label.set_text(\"count = \" + str(counter)) \n",
    "        \n",
    "                        \n",
    "# cards are logically 50x100 pixels in size    \n",
    "def draw(canvas):\n",
    "    for card_number in range(len(card_deck)):\n",
    "        card_pos = 40 * card_number\n",
    "        canvas.draw_text(str(card_deck[card_number]), (card_pos + 15,65) ,40, 'white')\n",
    "        \n",
    "    for card_block in range(len(exposed)):\n",
    "            card_pos = 40 * card_block\n",
    "            if exposed[card_block] == False :\n",
    "                canvas.draw_polygon([(card_pos, 0), (card_pos + 40, 0), (card_pos + 40, 100), (card_pos, 100)], 1, 'black', 'Green')\n",
    "    \n",
    "random.shuffle(card_deck)\n",
    "\n",
    "# create frame and add a button and labels\n",
    "frame = simplegui.create_frame(\"Memory\", 800, 100)\n",
    "frame.add_button(\"Reset\", new_game)\n",
    "label = frame.add_label(\"count = 0\")\n",
    "\n",
    "# register event handlers\n",
    "frame.set_mouseclick_handler(mouseclick)\n",
    "frame.set_draw_handler(draw)\n",
    "\n",
    "# get things rolling\n",
    "new_game()\n",
    "frame.start()"
   ]
  },
  {
   "cell_type": "markdown",
   "metadata": {},
   "source": [
    "###  프로젝트 요구사항 설명서 (Memory)"
   ]
  },
  {
   "cell_type": "markdown",
   "metadata": {},
   "source": [
    "매 단계마다 요구사항을 코딩한 후, 프로그램을 실행하여 요구사항이 잘 코딩 되었는지 확인하여야 한다. "
   ]
  },
  {
   "cell_type": "markdown",
   "metadata": {},
   "source": [
    "**1 단계:** <br>\n",
    "[0,9) 까지의 리스트 두개를 만든 후, 이 둘을 결합하여 하나의 리스트 <span style=\"color:red\">card_deck</span>을 만들라."
   ]
  },
  {
   "cell_type": "markdown",
   "metadata": {},
   "source": [
    "**2 단계:** <br>\n",
    "<span style=\"color:red\">for</span> loop 와 <span style=\"color:red\">draw_text</span> 를 이용하여 <span style=\"color:red\">card_deck </span>에 있는 숫자들을 canvas 에 일정한 간격으로 그려라."
   ]
  },
  {
   "cell_type": "markdown",
   "metadata": {},
   "source": [
    "**3 단계:**<br>\n",
    "<span style=\"color:red\">random.shuffle( )</span> 을 이용하여 <span style=\"color:red\">deck</span> 에 있는 카드를 섞어라.."
   ]
  },
  {
   "cell_type": "markdown",
   "metadata": {},
   "source": [
    "**4 단계:** <br>\n",
    "녹색 사각형 이나 카드의 숫자가 그려지도록 코드를 수정하라.<br>\n",
    "<span style=\"color:red\">exposed</span> 라는 리스트를 만들어, i번째 카드의 숫자가 보이면 True, 보이지 않으면 False 가 되도록 하라."
   ]
  },
  {
   "cell_type": "markdown",
   "metadata": {},
   "source": [
    "**5 단계:** <br>\n",
    "마우스로 클릭한 카드가 어떤 어떤 카드인지를 결정하는 기능을 코딩하자.<br>\n",
    "마우스를 클릭할 때 마우스의 위치를 알려주는 event handler를 추가하여, 클릭한 카드를 인쇄하라.<br>"
   ]
  },
  {
   "cell_type": "markdown",
   "metadata": {},
   "source": [
    "**6 단계:** <br>\n",
    "마우스로 클릭한 위치에 있는 카드가 보이도록 아래와 같이 코딩하라.<br>\n",
    "만일 마우스로 클릭한 위치의 카드가 i 번째 카드라면, <span style=\"color:red\">exposed[ i ]</span> 는 <span style=\"color:red\">False</span> 에서 <span style=\"color:red\">True</span> 로 바꾸라.<br>\n",
    "그러나, 만일 그 카드가 이미 <span style=\"color:red\">True</span> 라면, 마우스 클릭을 무시하라."
   ]
  },
  {
   "cell_type": "markdown",
   "metadata": {},
   "source": [
    "**7 단계:** <span style=\"color:red\">mouseclick</span><br>\n",
    "mouse click handler에 게임 로직을 추가할 차례이다.<br>\n",
    "앞에서 설명한 example code를 참고하여, 두 개의 카드를 선택하여 이들이 일치하는지를 체크한다.<br>\n",
    "state 0은 게임의 시작 단계이다.<br>\n",
    "state 0에서, 만일 unexposed 카드를 클릭하여 그 카드가 exposed 되면, state 1 이된다.\n",
    "따라서, state 1 이란, 쌍을 이루지 못한 카드 하나만 노출된 상태이다.\n",
    "state 1 에서, 만일 unexposed 카드를 클릭하여 그 카드가 exposed 되면, state 2 가 된다.\n",
    "state 2 에서, 만일 unexposed 카드를 클릭하여 그 카드가 exposed 되면, state 1 이 된다."
   ]
  },
  {
   "cell_type": "markdown",
   "metadata": {},
   "source": [
    "**8 단계:** <br>\n",
    "state 2 에서, 두 카드의 값이 일치하는지를 체크하여야 한다.<br>\n",
    "만일 두 카드가 일치하지 않으면, state 1 으로 가기 전에 카드를 보이지 않도록 뒤집어야 한다.<br>\n",
    "가장 최근에 exposed 된 두 카드의 index를 저장하는 두개의 global variable을 사용하라."
   ]
  },
  {
   "cell_type": "markdown",
   "metadata": {},
   "source": [
    "**9 단계:**<br>\n",
    "카드를 몇 쌍 뒤집었는지를 세는 counter를 추가하라.<br>\n",
    "<span style=\"color:red\">set_text</span>를 사용하여 컨트롤 판넬에 있는 label에 있는 이 counter를 업데이트 하라."
   ]
  },
  {
   "cell_type": "markdown",
   "metadata": {},
   "source": [
    "**10 단계:** <br>\n",
    "Reset 버튼을 누르면, 카드를 reshuffle 하고, counter를 reset 하고, 게임을 시작하도록, <span style=\"color:red\">new_game</span> 을 수정하라."
   ]
  }
 ],
 "metadata": {
  "kernelspec": {
   "display_name": "Python 3",
   "language": "python",
   "name": "python3"
  },
  "language_info": {
   "codemirror_mode": {
    "name": "ipython",
    "version": 3
   },
   "file_extension": ".py",
   "mimetype": "text/x-python",
   "name": "python",
   "nbconvert_exporter": "python",
   "pygments_lexer": "ipython3",
   "version": "3.7.1"
  }
 },
 "nbformat": 4,
 "nbformat_minor": 2
}
