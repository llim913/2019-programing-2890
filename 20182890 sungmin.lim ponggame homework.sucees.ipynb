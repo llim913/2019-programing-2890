{
 "cells": [
  {
   "cell_type": "markdown",
   "metadata": {},
   "source": [
    "# Mini_Project_4:  Pong"
   ]
  },
  {
   "cell_type": "markdown",
   "metadata": {},
   "source": [
    "<img style=\"float: left;\" src=\"pic/04_05_01.png\"  width=\"850\">"
   ]
  },
  {
   "cell_type": "markdown",
   "metadata": {},
   "source": [
    "<br><br><br><br>\n",
    "<img style=\"float: left;\" src=\"pic/04_05_02.png\"  width=\"750\">"
   ]
  },
  {
   "cell_type": "markdown",
   "metadata": {},
   "source": [
    "## Project Templete (Pong)"
   ]
  },
  {
   "cell_type": "markdown",
   "metadata": {},
   "source": [
    "###  프로젝트 요구사항 설명서 (Pong)"
   ]
  },
  {
   "cell_type": "markdown",
   "metadata": {},
   "source": [
    "매 단계마다 요구사항을 코딩한 후, 프로그램을 실행하여 요구사항이 잘 코딩 되었는지 확인하여야 한다. "
   ]
  },
  {
   "cell_type": "markdown",
   "metadata": {},
   "source": [
    "**1 단계:** <span style=\"color:red\">draw</span><br>\n",
    "wk04_02_Motion 의 두 번째 프로그램(Ball motion with an implicit timer)을 참고 하여 다음 두 코멘트 문의 아래에 각각 해당 내용을 추가한다.<br>\n",
    "\\# draw the ball<br> \n",
    "\\# update ball<br>\n",
    "\n",
    "<span style=\"color:red\">주의: 프로그램을 실행하여도 아무 변화가 없다. </span>"
   ]
  },
  {
   "cell_type": "markdown",
   "metadata": {},
   "source": [
    "**2 단계:** <span style=\"color:red\">spawn_ball</span><br>\n",
    "공이 pong 테이블의 중간에서 나타나고, 일정한 속도로 움직일 수 있도록 변수를 값을 설정한다.<br>\n",
    "<span style=\"color:red\">direction</span> 에 관한 내용을 일단 무시한다.\n",
    "\n",
    "<span style=\"color:red\">주의: 프로그램을 실행하여도 아무 변화가 없다. </span>"
   ]
  },
  {
   "cell_type": "markdown",
   "metadata": {},
   "source": [
    "**3 단계:**<span style=\"color:red\">new_game</span><br>\n",
    "Pong 게임을 시작시키는 <span style=\"color:red\">new_game</span> 함수에서 파라메터 값이 True 인 <span style=\"color:red\">spawn_ball</span><br> 함수를 호출하라.<br>\n",
    "\n",
    "<span style=\"color:red\">주의: 프로그램을 실행하면, 공이 움직인다.  </span>"
   ]
  },
  {
   "cell_type": "markdown",
   "metadata": {},
   "source": [
    "**4 단계:** <span style=\"color:red\">draw</span><br>\n",
    "공이 천장과 바닥에 부딪힐 때 반사하도록 코드를 수정하라.<br>\n",
    "공이 위나 아래로 움직이도록 속도 벡터 값을 수정해야 테스트를 할 수 있다."
   ]
  },
  {
   "cell_type": "markdown",
   "metadata": {},
   "source": [
    "**5 단계:** <span style=\"color:red\">spawn_ball</span><br>\n",
    "공의 방향과 속도를 랜덤하게 하기 위하여 다음과 같이 하라.<br>\n",
    "공의 방향은 다음과 같이 결정하라.<br>\n",
    "만일 <span style=\"color:red\">direction == RIGHT</span> 이면, 위쪽 오른쪽 방향으로, and upwards and towards the left 만일 <span style=\"color:red\">direction == LEFT</span>이면, 위쪽 왼쪽 방향으로 움직이게 한다.<br>\n",
    "공의 x축 방향 속도는 <span style=\"color:red\">random.randrange(120, 240)</span> pixels per second 가 되도록 하고,<br>\n",
    "공의 y축 방향 속도는 <span style=\"color:red\">random.randrange(60, 180)</span> pixels per second 가 되도록 하라.<br>\n",
    "\n",
    "<span style=\"color:red\">주의: 공의 방향은 필요에 따라 음수 값을 가지게 됨을 잊지 마라.  </span><br>\n",
    "**<span style=\"color:red\">주의: 공이 안보인다면, 60분의 1초마다 canvas 가 다시 그려짐을 잊지마라.  </span>**"
   ]
  },
  {
   "cell_type": "markdown",
   "metadata": {},
   "source": [
    "**6 단계:** <span style=\"color:red\">draw</span><br>\n",
    "공이 오른쪽 거터(gutter) 및 왼쪽 거터에 touch 했는지를 테스트하는 코드를 추가하라.<br>\n",
    "touch를 하면, 어느쪽 거터에 touch 했는지에 따라, <span style=\"color:red\">spawn_ball(LEFT)</span> 또는 <span style=\"color:red\">spawn_ball(RIGHT)</span> 를 추가하라.<br>\n",
    "(이렇게 함으로써 테이블 중앙에 다시 나타난 공이  반대쪽 거터를 향하여 움직인다.)"
   ]
  },
  {
   "cell_type": "markdown",
   "metadata": {},
   "source": [
    "**7 단계:** <span style=\"color:red\">draw</span><br>\n",
    "왼쪽 paddle 과 오른쪽 paddle을 그리는 코드를 추가하라.<br>\n",
    "이 두 paddle의 중심의 y 축 값은 <span style=\"color:red\">paddle1_pos</span> 과 <span style=\"color:red\">paddle2_pos</span> 이며, 모두 global variable 이다."
   ]
  },
  {
   "cell_type": "markdown",
   "metadata": {},
   "source": [
    "**8 단계:** <span style=\"color:red\">draw</span><br>\n",
    "global variable <span style=\"color:red\">paddle1_vel</span> 과 <span style=\"color:red\">paddle2_vel</span> 을 이용하여, paddle 의 위치를 업데이트 하는 코드를 추가하라.\n",
    "\n",
    "<span style=\"color:red\">주의: paddle을 움직이는 코드를 아직 추가하지 않았으므로, 8단계가 잘 되었는지 체크할 수 없다. </span>"
   ]
  },
  {
   "cell_type": "markdown",
   "metadata": {},
   "source": [
    "**9 단계:** <span style=\"color:red\">keydown</span> 및 <span style=\"color:red\">keyup</span><br>\n",
    "paddle 의 속도를 업데이트 하라.<br>\n",
    "\"w\" 키 및 \"s\" 키 는 왼쪽 paddle 의 속도를 콘트롤하고, \"Up arrow\" 키 및 \"Down arrow\" 키는 오른쪽 paddle 의 속도를 콘트롤한다.<br>\n",
    "\"w\" 키를 계속 누르고 있으면, 왼쪽 paddle은 일정한 속도로 윗쪽으로 움직이고, \"s\" 키를 계속 누르고 있으면, 일정한 속도로 아래쪽으로 움직인다.<br>\n",
    "이 두 키를 누르고 있지 않으면, 왼쪽 paddle은 멈추어 있는다. (두 키를 동시에 누르면?  - It's up to you.)"
   ]
  },
  {
   "cell_type": "markdown",
   "metadata": {},
   "source": [
    "**10 단계:** <span style=\"color:red\">draw</span><br>\n",
    "paddle 전체가 canvas 내부에 나타나도록, paddle 의 위치를 업데이트 하기전에 체크하는 코드를 추가하라."
   ]
  },
  {
   "cell_type": "markdown",
   "metadata": {},
   "source": [
    "**11 단계:** <span style=\"color:red\">draw</span><br>\n",
    "6 단계에서 작성한, 왼쪽 gutter 및 오른쪽 gutter에 터치했는지를 체크하는 코드를 수정하여, gutter에 터치 했을 때, paddle에 터치 했는지를 체크하도록 하라. 만일, paddle에 터치 하면, 공은 반사되도록 하라. "
   ]
  },
  {
   "cell_type": "markdown",
   "metadata": {},
   "source": [
    "**12 단계:** <span style=\"color:red\">draw</span><br>\n",
    "게임의 난이도를 증가시키기 위하여, 공이 paddle에 닿을 때 마다, 속도를 10% 증가 시켜라."
   ]
  },
  {
   "cell_type": "markdown",
   "metadata": {},
   "source": [
    "**13 단계:** <span style=\"color:red\">draw</span><br>\n",
    "게임 score를 나타내라. gutter에 공이 닿으면, 상대방 점수가 올라간다."
   ]
  },
  {
   "cell_type": "markdown",
   "metadata": {},
   "source": [
    "**14 단계:** <br>\n",
    "<span style=\"color:red\">new_game</span> 함수에서 <span style=\"color:red\">spawn_ball</span>을 호출하기 전에 score를 reset 시켜라.<br> <span style=\"color:red\">new_game</span> 을 호출하는 \"Restart\" 버튼을 추가하라."
   ]
  },
  {
   "cell_type": "code",
   "execution_count": 5,
   "metadata": {},
   "outputs": [],
   "source": [
    "# Implementation of classic arcade game Pong\n",
    "\n",
    "import SimpleGUICS2Pygame.simpleguics2pygame as simplegui\n",
    "import random\n",
    "\n",
    "# initialize globals - pos and vel encode vertical info for paddles\n",
    "WIDTH = 600\n",
    "HEIGHT = 400       \n",
    "BALL_RADIUS = 20\n",
    "PAD_WIDTH = 8\n",
    "PAD_HEIGHT = 80\n",
    "HALF_PAD_WIDTH = PAD_WIDTH / 2\n",
    "HALF_PAD_HEIGHT = PAD_HEIGHT / 2\n",
    "LEFT = False\n",
    "RIGHT = True\n",
    "ball_pos = [WIDTH / 2, HEIGHT /2]\n",
    "ball_vel = [0,0]\n",
    "paddle1_pos = 240\n",
    "paddle2_pos = 240\n",
    "paddle1_vel = 0\n",
    "paddle2_vel = 0\n",
    "score1=0\n",
    "score2=0\n",
    "\n",
    "\n",
    "# initialize ball_pos and ball_vel for new bal in middle of table\n",
    "# if direction is RIGHT, the ball's velocity is upper right, else upper left\n",
    "def spawn_ball(direction):\n",
    "    global ball_pos, ball_vel\n",
    "    ball_pos = [WIDTH / 2, HEIGHT /2]\n",
    "    \n",
    "    if direction == \"RIGHT\":\n",
    "        ball_vel[0] = random.randrange(2, 6)\n",
    "        ball_vel[1] = -random.randrange(1, 5)\n",
    "            \n",
    "    elif direction == \"LEFT\":\n",
    "        ball_vel[0] = -random.randrange(2, 6)\n",
    "        ball_vel[1] = -random.randrange(1, 5)\n",
    "        \n",
    "# define event handlers\n",
    "def new_game():\n",
    "    global paddle1_pos, paddle2_pos, paddle1_vel, paddle2_vel, score1, score2\n",
    "    \n",
    "    score1 = score2 = 0\n",
    "    paddle1_pos = paddle2_pos = 240\n",
    "    \n",
    "    spawn_direction = random.randrange(-1,2,2)\n",
    "    \n",
    "    if spawn_direction == 1:\n",
    "        spawn_ball(\"RIGHT\")\n",
    "    else:\n",
    "        spawn_ball(\"LEFT\")\n",
    "    \n",
    "def draw(canvas):\n",
    "    global score1, score2, paddle1_pos, paddle2_pos, ball_pos, ball_vel, BALL_RADIUS\n",
    "          \n",
    "\n",
    "    canvas.draw_line([WIDTH / 2, 0],[WIDTH / 2, HEIGHT], 1, \"White\")\n",
    "    canvas.draw_line([PAD_WIDTH, 0],[PAD_WIDTH, HEIGHT], 1, \"White\")\n",
    "    canvas.draw_line([WIDTH - PAD_WIDTH, 0],[WIDTH - PAD_WIDTH, HEIGHT], 1, \"White\")\n",
    "        \n",
    "    ball_pos[0] += ball_vel[0]\n",
    "    ball_pos[1] += ball_vel[1]\n",
    "    \n",
    "    if ball_pos[1] < BALL_RADIUS:\n",
    "        ball_vel[1] = -ball_vel[1]\n",
    "    elif ball_pos[1] > HEIGHT-BALL_RADIUS:\n",
    "        ball_vel[1] = -ball_vel[1]\n",
    "    \n",
    "  \n",
    "    if ball_pos[0] > (WIDTH-(BALL_RADIUS + PAD_WIDTH)):\n",
    "        if (ball_pos[1] > (paddle2_pos+12)) or (ball_pos[1] < (paddle2_pos-92)):\n",
    "            spawn_ball(\"LEFT\")\n",
    "            score1 += 1\n",
    "        else:\n",
    "            ball_vel[0] = -ball_vel[0]*1.1\n",
    "            ball_vel[1] = ball_vel[1]*1.1\n",
    "    \n",
    "      \n",
    "    elif ball_pos[0] < BALL_RADIUS + PAD_WIDTH:\n",
    "        if (ball_pos[1] > paddle1_pos+12) or (ball_pos[1] < (paddle1_pos-92)):\n",
    "            spawn_ball(\"RIGHT\")\n",
    "            score2 += 1\n",
    "        else:\n",
    "            ball_vel[0] = -ball_vel[0]*1.1\n",
    "            ball_vel[1] = ball_vel[1]*1.1\n",
    "                \n",
    "    # draw ball\n",
    "    canvas.draw_circle(ball_pos, BALL_RADIUS, 1, \"White\", \"White\")\n",
    "        \n",
    "    # draw paddles\n",
    "    canvas.draw_polygon([(0,paddle1_pos),(0,paddle1_pos-80),(PAD_WIDTH,paddle1_pos-80),(PAD_WIDTH,paddle1_pos)] , 1, 'White','White')\n",
    "    canvas.draw_polygon([(WIDTH-8,paddle2_pos),(WIDTH-8,paddle2_pos-80),(WIDTH,paddle2_pos-80),(WIDTH,paddle2_pos)] , 1, 'White','White')\n",
    "    \n",
    "    if PAD_HEIGHT < paddle1_pos + paddle1_vel < HEIGHT:\n",
    "        paddle1_pos += paddle1_vel\n",
    "        \n",
    "    if PAD_HEIGHT < paddle2_pos + paddle2_vel< HEIGHT:\n",
    "        paddle2_pos += paddle2_vel\n",
    "     \n",
    "    # draw scores\n",
    "    scores = str(score1) + \"     \" + str(score2)\n",
    "    canvas.draw_text(scores, (WIDTH/2-70, HEIGHT/6), 60, \"White\")\n",
    "        \n",
    "def keydown(key):\n",
    "    global paddle1_vel, paddle2_vel\n",
    "    if key==simplegui.KEY_MAP[\"w\"]:\n",
    "        paddle1_vel = -6\n",
    "        \n",
    "    if key==simplegui.KEY_MAP[\"s\"]:\n",
    "        paddle1_vel = 6\n",
    "    \n",
    "    if key==simplegui.KEY_MAP[\"up\"]:\n",
    "        paddle2_vel = -6\n",
    "        \n",
    "    if key==simplegui.KEY_MAP[\"down\"]:\n",
    "        paddle2_vel = 6\n",
    "\n",
    "def keyup(key):\n",
    "    global paddle1_vel, paddle2_vel\n",
    "    \n",
    "    if key==simplegui.KEY_MAP[\"w\"] or key==simplegui.KEY_MAP[\"s\"]:\n",
    "        paddle1_vel = 0\n",
    "            \n",
    "    elif key==simplegui.KEY_MAP[\"up\"]or key==simplegui.KEY_MAP[\"down\"]:\n",
    "        paddle2_vel = 0\n",
    "\n",
    "def restart():\n",
    "    new_game()\n",
    "        \n",
    "# create frame\n",
    "frame = simplegui.create_frame(\"Pong\", WIDTH, HEIGHT)\n",
    "frame.set_draw_handler(draw)\n",
    "frame.set_keydown_handler(keydown)\n",
    "frame.set_keyup_handler(keyup)\n",
    "frame.add_button(\"Restart\", restart, 100)\n",
    "\n",
    "# start frame\n",
    "new_game()\n",
    "frame.start()\n"
   ]
  },
  {
   "cell_type": "code",
   "execution_count": 6,
   "metadata": {},
   "outputs": [],
   "source": [
    "# Implementation of classic arcade game Pong\n",
    "\n",
    "import SimpleGUICS2Pygame.simpleguics2pygame as simplegui\n",
    "import random\n",
    "\n",
    "# initialize globals - pos and vel encode vertical info for paddles\n",
    "WIDTH = 600\n",
    "HEIGHT = 400       \n",
    "BALL_RADIUS = 20\n",
    "PAD_WIDTH = 8\n",
    "PAD_HEIGHT = 80\n",
    "HALF_PAD_WIDTH = PAD_WIDTH / 2\n",
    "HALF_PAD_HEIGHT = PAD_HEIGHT / 2\n",
    "LEFT = False\n",
    "RIGHT = True\n",
    "\n",
    "# initialize ball_pos and ball_vel for new bal in middle of table\n",
    "# if direction is RIGHT, the ball's velocity is upper right, else upper left\n",
    "def spawn_ball(direction):\n",
    "    global ball_pos, ball_vel # these are vectors stored as lists\n",
    "\n",
    "\n",
    "# define event handlers\n",
    "def new_game():\n",
    "    global paddle1_pos, paddle2_pos, paddle1_vel, paddle2_vel  # these are numbers\n",
    "    global score1, score2  # these are ints\n",
    "\n",
    "def draw(canvas):\n",
    "    global score1, score2, paddle1_pos, paddle2_pos, ball_pos, ball_vel\n",
    " \n",
    "        \n",
    "    # draw mid line and gutters\n",
    "    canvas.draw_line([WIDTH / 2, 0],[WIDTH / 2, HEIGHT], 1, \"White\")\n",
    "    canvas.draw_line([PAD_WIDTH, 0],[PAD_WIDTH, HEIGHT], 1, \"White\")\n",
    "    canvas.draw_line([WIDTH - PAD_WIDTH, 0],[WIDTH - PAD_WIDTH, HEIGHT], 1, \"White\")\n",
    "        \n",
    "    # update ball\n",
    "            \n",
    "    # draw ball\n",
    "    \n",
    "    # update paddle's vertical position, keep paddle on the screen\n",
    "    \n",
    "    # draw paddles\n",
    "    \n",
    "    # determine whether paddle and ball collide    \n",
    "    \n",
    "    # draw scores\n",
    "\n",
    "        \n",
    "def keydown(key):\n",
    "    global paddle1_vel, paddle2_vel\n",
    "\n",
    "def keyup(key):\n",
    "    global paddle1_vel, paddle2_vel\n",
    "\n",
    "\n",
    "# create frame\n",
    "frame = simplegui.create_frame(\"Pong\", WIDTH, HEIGHT)\n",
    "frame.set_draw_handler(draw)\n",
    "frame.set_keydown_handler(keydown)\n",
    "frame.set_keyup_handler(keyup)\n",
    "\n",
    "\n",
    "# start frame\n",
    "new_game()\n",
    "frame.start()"
   ]
  },
  {
   "cell_type": "code",
   "execution_count": null,
   "metadata": {},
   "outputs": [],
   "source": []
  }
 ],
 "metadata": {
  "kernelspec": {
   "display_name": "Python 3",
   "language": "python",
   "name": "python3"
  },
  "language_info": {
   "codemirror_mode": {
    "name": "ipython",
    "version": 3
   },
   "file_extension": ".py",
   "mimetype": "text/x-python",
   "name": "python",
   "nbconvert_exporter": "python",
   "pygments_lexer": "ipython3",
   "version": "3.6.5"
  }
 },
 "nbformat": 4,
 "nbformat_minor": 2
}
